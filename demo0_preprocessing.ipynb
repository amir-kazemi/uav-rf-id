{
 "cells": [
  {
   "cell_type": "markdown",
   "id": "373eb9c1-66e5-4dab-a921-9bdebc8ead22",
   "metadata": {},
   "source": [
    "# <center> **Data Preprocessing** <center>"
   ]
  },
  {
   "cell_type": "code",
   "execution_count": 3,
   "id": "9f9a0af2-1996-41a5-ae7d-526a9d153214",
   "metadata": {},
   "outputs": [
    {
     "name": "stderr",
     "output_type": "stream",
     "text": [
      "/opt/miniconda3/envs/opence-v1.6.1/lib/python3.9/site-packages/xgboost/compat.py:36: FutureWarning: pandas.Int64Index is deprecated and will be removed from pandas in a future version. Use pandas.Index with the appropriate dtype instead.\n",
      "  from pandas import MultiIndex, Int64Index\n"
     ]
    }
   ],
   "source": [
    "from src import *\n",
    "\n",
    "utils.set_seeds(seed_value=0)"
   ]
  },
  {
   "cell_type": "markdown",
   "id": "93a738f3-9a94-4990-9ea8-b4f07dcfd557",
   "metadata": {},
   "source": [
    "## Split data based on class and data percentage with five folds for each"
   ]
  },
  {
   "cell_type": "code",
   "execution_count": null,
   "id": "7662880d-0f47-4334-b363-44b294fa76ae",
   "metadata": {},
   "outputs": [],
   "source": [
    "data_percentage = [10, 20, 30, 40, 50]\n",
    "class_size = [4, 10]\n",
    "\n",
    "dl = dataprep.Loader(\"./data/RF_Data.csv\")\n",
    "\n",
    "for cs in class_size:\n",
    "    ds = dataprep.Splitter(\"C\"+str(cs), data_percentage)\n",
    "    ds.split_and_save(dl)"
   ]
  },
  {
   "cell_type": "markdown",
   "id": "db442031-38f2-4dfc-a947-5d8c812a4d99",
   "metadata": {},
   "source": [
    "## Use case for loading subsampled data"
   ]
  },
  {
   "cell_type": "code",
   "execution_count": 9,
   "id": "8ab36cb0-da6b-4ad6-a7ca-7a9ba49c7863",
   "metadata": {},
   "outputs": [
    {
     "name": "stdout",
     "output_type": "stream",
     "text": [
      "classes = 4, percentage = 10\n",
      "X:  ./data/C4P10K1/X_train_subsampled.npy ; Y:  ./data/C4P10K1/Y_train_subsampled.npy\n",
      "X:  ./data/C4P10K2/X_train_subsampled.npy ; Y:  ./data/C4P10K2/Y_train_subsampled.npy\n",
      "X:  ./data/C4P10K3/X_train_subsampled.npy ; Y:  ./data/C4P10K3/Y_train_subsampled.npy\n",
      "X:  ./data/C4P10K4/X_train_subsampled.npy ; Y:  ./data/C4P10K4/Y_train_subsampled.npy\n",
      "X:  ./data/C4P10K5/X_train_subsampled.npy ; Y:  ./data/C4P10K5/Y_train_subsampled.npy\n",
      "classes = 4, percentage = 20\n",
      "X:  ./data/C4P20K1/X_train_subsampled.npy ; Y:  ./data/C4P20K1/Y_train_subsampled.npy\n",
      "X:  ./data/C4P20K2/X_train_subsampled.npy ; Y:  ./data/C4P20K2/Y_train_subsampled.npy\n",
      "X:  ./data/C4P20K3/X_train_subsampled.npy ; Y:  ./data/C4P20K3/Y_train_subsampled.npy\n",
      "X:  ./data/C4P20K4/X_train_subsampled.npy ; Y:  ./data/C4P20K4/Y_train_subsampled.npy\n",
      "X:  ./data/C4P20K5/X_train_subsampled.npy ; Y:  ./data/C4P20K5/Y_train_subsampled.npy\n",
      "classes = 4, percentage = 30\n",
      "X:  ./data/C4P30K1/X_train_subsampled.npy ; Y:  ./data/C4P30K1/Y_train_subsampled.npy\n",
      "X:  ./data/C4P30K2/X_train_subsampled.npy ; Y:  ./data/C4P30K2/Y_train_subsampled.npy\n",
      "X:  ./data/C4P30K3/X_train_subsampled.npy ; Y:  ./data/C4P30K3/Y_train_subsampled.npy\n",
      "X:  ./data/C4P30K4/X_train_subsampled.npy ; Y:  ./data/C4P30K4/Y_train_subsampled.npy\n",
      "X:  ./data/C4P30K5/X_train_subsampled.npy ; Y:  ./data/C4P30K5/Y_train_subsampled.npy\n",
      "classes = 4, percentage = 40\n",
      "X:  ./data/C4P40K1/X_train_subsampled.npy ; Y:  ./data/C4P40K1/Y_train_subsampled.npy\n",
      "X:  ./data/C4P40K2/X_train_subsampled.npy ; Y:  ./data/C4P40K2/Y_train_subsampled.npy\n",
      "X:  ./data/C4P40K3/X_train_subsampled.npy ; Y:  ./data/C4P40K3/Y_train_subsampled.npy\n",
      "X:  ./data/C4P40K4/X_train_subsampled.npy ; Y:  ./data/C4P40K4/Y_train_subsampled.npy\n",
      "X:  ./data/C4P40K5/X_train_subsampled.npy ; Y:  ./data/C4P40K5/Y_train_subsampled.npy\n",
      "classes = 4, percentage = 50\n",
      "X:  ./data/C4P50K1/X_train_subsampled.npy ; Y:  ./data/C4P50K1/Y_train_subsampled.npy\n",
      "X:  ./data/C4P50K2/X_train_subsampled.npy ; Y:  ./data/C4P50K2/Y_train_subsampled.npy\n",
      "X:  ./data/C4P50K3/X_train_subsampled.npy ; Y:  ./data/C4P50K3/Y_train_subsampled.npy\n",
      "X:  ./data/C4P50K4/X_train_subsampled.npy ; Y:  ./data/C4P50K4/Y_train_subsampled.npy\n",
      "X:  ./data/C4P50K5/X_train_subsampled.npy ; Y:  ./data/C4P50K5/Y_train_subsampled.npy\n",
      "classes = 10, percentage = 10\n",
      "X:  ./data/C10P10K1/X_train_subsampled.npy ; Y:  ./data/C10P10K1/Y_train_subsampled.npy\n",
      "X:  ./data/C10P10K2/X_train_subsampled.npy ; Y:  ./data/C10P10K2/Y_train_subsampled.npy\n",
      "X:  ./data/C10P10K3/X_train_subsampled.npy ; Y:  ./data/C10P10K3/Y_train_subsampled.npy\n",
      "X:  ./data/C10P10K4/X_train_subsampled.npy ; Y:  ./data/C10P10K4/Y_train_subsampled.npy\n",
      "X:  ./data/C10P10K5/X_train_subsampled.npy ; Y:  ./data/C10P10K5/Y_train_subsampled.npy\n",
      "classes = 10, percentage = 20\n",
      "X:  ./data/C10P20K1/X_train_subsampled.npy ; Y:  ./data/C10P20K1/Y_train_subsampled.npy\n",
      "X:  ./data/C10P20K2/X_train_subsampled.npy ; Y:  ./data/C10P20K2/Y_train_subsampled.npy\n",
      "X:  ./data/C10P20K3/X_train_subsampled.npy ; Y:  ./data/C10P20K3/Y_train_subsampled.npy\n",
      "X:  ./data/C10P20K4/X_train_subsampled.npy ; Y:  ./data/C10P20K4/Y_train_subsampled.npy\n",
      "X:  ./data/C10P20K5/X_train_subsampled.npy ; Y:  ./data/C10P20K5/Y_train_subsampled.npy\n",
      "classes = 10, percentage = 30\n",
      "X:  ./data/C10P30K1/X_train_subsampled.npy ; Y:  ./data/C10P30K1/Y_train_subsampled.npy\n",
      "X:  ./data/C10P30K2/X_train_subsampled.npy ; Y:  ./data/C10P30K2/Y_train_subsampled.npy\n",
      "X:  ./data/C10P30K3/X_train_subsampled.npy ; Y:  ./data/C10P30K3/Y_train_subsampled.npy\n",
      "X:  ./data/C10P30K4/X_train_subsampled.npy ; Y:  ./data/C10P30K4/Y_train_subsampled.npy\n",
      "X:  ./data/C10P30K5/X_train_subsampled.npy ; Y:  ./data/C10P30K5/Y_train_subsampled.npy\n",
      "classes = 10, percentage = 40\n",
      "X:  ./data/C10P40K1/X_train_subsampled.npy ; Y:  ./data/C10P40K1/Y_train_subsampled.npy\n",
      "X:  ./data/C10P40K2/X_train_subsampled.npy ; Y:  ./data/C10P40K2/Y_train_subsampled.npy\n",
      "X:  ./data/C10P40K3/X_train_subsampled.npy ; Y:  ./data/C10P40K3/Y_train_subsampled.npy\n",
      "X:  ./data/C10P40K4/X_train_subsampled.npy ; Y:  ./data/C10P40K4/Y_train_subsampled.npy\n",
      "X:  ./data/C10P40K5/X_train_subsampled.npy ; Y:  ./data/C10P40K5/Y_train_subsampled.npy\n",
      "classes = 10, percentage = 50\n",
      "X:  ./data/C10P50K1/X_train_subsampled.npy ; Y:  ./data/C10P50K1/Y_train_subsampled.npy\n",
      "X:  ./data/C10P50K2/X_train_subsampled.npy ; Y:  ./data/C10P50K2/Y_train_subsampled.npy\n",
      "X:  ./data/C10P50K3/X_train_subsampled.npy ; Y:  ./data/C10P50K3/Y_train_subsampled.npy\n",
      "X:  ./data/C10P50K4/X_train_subsampled.npy ; Y:  ./data/C10P50K4/Y_train_subsampled.npy\n",
      "X:  ./data/C10P50K5/X_train_subsampled.npy ; Y:  ./data/C10P50K5/Y_train_subsampled.npy\n"
     ]
    }
   ],
   "source": [
    "paths_dict = utils.get_sorted_paths_dict()\n",
    "\n",
    "for (C, P), path_list in paths_dict.items():\n",
    "    print(f\"classes = {C}, percentage = {P}\")\n",
    "    for x_path, y_path in path_list:\n",
    "        print('X: ',x_path, '; Y: ',y_path)"
   ]
  },
  {
   "cell_type": "markdown",
   "id": "5640c446-af60-4aaf-89c9-d1c133a487ea",
   "metadata": {},
   "source": [
    "## Use case for loading test data"
   ]
  },
  {
   "cell_type": "code",
   "execution_count": 8,
   "id": "f2c3bf01-ab86-484e-a251-ba138dd41b4c",
   "metadata": {},
   "outputs": [
    {
     "name": "stdout",
     "output_type": "stream",
     "text": [
      "classes = 4, percentage = 10\n",
      "X:  ./data/C4P10K1/X_test.npy ; Y:  ./data/C4P10K1/Y_test.npy\n",
      "X:  ./data/C4P10K2/X_test.npy ; Y:  ./data/C4P10K2/Y_test.npy\n",
      "X:  ./data/C4P10K3/X_test.npy ; Y:  ./data/C4P10K3/Y_test.npy\n",
      "X:  ./data/C4P10K4/X_test.npy ; Y:  ./data/C4P10K4/Y_test.npy\n",
      "X:  ./data/C4P10K5/X_test.npy ; Y:  ./data/C4P10K5/Y_test.npy\n",
      "classes = 4, percentage = 20\n",
      "X:  ./data/C4P20K1/X_test.npy ; Y:  ./data/C4P20K1/Y_test.npy\n",
      "X:  ./data/C4P20K2/X_test.npy ; Y:  ./data/C4P20K2/Y_test.npy\n",
      "X:  ./data/C4P20K3/X_test.npy ; Y:  ./data/C4P20K3/Y_test.npy\n",
      "X:  ./data/C4P20K4/X_test.npy ; Y:  ./data/C4P20K4/Y_test.npy\n",
      "X:  ./data/C4P20K5/X_test.npy ; Y:  ./data/C4P20K5/Y_test.npy\n",
      "classes = 4, percentage = 30\n",
      "X:  ./data/C4P30K1/X_test.npy ; Y:  ./data/C4P30K1/Y_test.npy\n",
      "X:  ./data/C4P30K2/X_test.npy ; Y:  ./data/C4P30K2/Y_test.npy\n",
      "X:  ./data/C4P30K3/X_test.npy ; Y:  ./data/C4P30K3/Y_test.npy\n",
      "X:  ./data/C4P30K4/X_test.npy ; Y:  ./data/C4P30K4/Y_test.npy\n",
      "X:  ./data/C4P30K5/X_test.npy ; Y:  ./data/C4P30K5/Y_test.npy\n",
      "classes = 4, percentage = 40\n",
      "X:  ./data/C4P40K1/X_test.npy ; Y:  ./data/C4P40K1/Y_test.npy\n",
      "X:  ./data/C4P40K2/X_test.npy ; Y:  ./data/C4P40K2/Y_test.npy\n",
      "X:  ./data/C4P40K3/X_test.npy ; Y:  ./data/C4P40K3/Y_test.npy\n",
      "X:  ./data/C4P40K4/X_test.npy ; Y:  ./data/C4P40K4/Y_test.npy\n",
      "X:  ./data/C4P40K5/X_test.npy ; Y:  ./data/C4P40K5/Y_test.npy\n",
      "classes = 4, percentage = 50\n",
      "X:  ./data/C4P50K1/X_test.npy ; Y:  ./data/C4P50K1/Y_test.npy\n",
      "X:  ./data/C4P50K2/X_test.npy ; Y:  ./data/C4P50K2/Y_test.npy\n",
      "X:  ./data/C4P50K3/X_test.npy ; Y:  ./data/C4P50K3/Y_test.npy\n",
      "X:  ./data/C4P50K4/X_test.npy ; Y:  ./data/C4P50K4/Y_test.npy\n",
      "X:  ./data/C4P50K5/X_test.npy ; Y:  ./data/C4P50K5/Y_test.npy\n",
      "classes = 10, percentage = 10\n",
      "X:  ./data/C10P10K1/X_test.npy ; Y:  ./data/C10P10K1/Y_test.npy\n",
      "X:  ./data/C10P10K2/X_test.npy ; Y:  ./data/C10P10K2/Y_test.npy\n",
      "X:  ./data/C10P10K3/X_test.npy ; Y:  ./data/C10P10K3/Y_test.npy\n",
      "X:  ./data/C10P10K4/X_test.npy ; Y:  ./data/C10P10K4/Y_test.npy\n",
      "X:  ./data/C10P10K5/X_test.npy ; Y:  ./data/C10P10K5/Y_test.npy\n",
      "classes = 10, percentage = 20\n",
      "X:  ./data/C10P20K1/X_test.npy ; Y:  ./data/C10P20K1/Y_test.npy\n",
      "X:  ./data/C10P20K2/X_test.npy ; Y:  ./data/C10P20K2/Y_test.npy\n",
      "X:  ./data/C10P20K3/X_test.npy ; Y:  ./data/C10P20K3/Y_test.npy\n",
      "X:  ./data/C10P20K4/X_test.npy ; Y:  ./data/C10P20K4/Y_test.npy\n",
      "X:  ./data/C10P20K5/X_test.npy ; Y:  ./data/C10P20K5/Y_test.npy\n",
      "classes = 10, percentage = 30\n",
      "X:  ./data/C10P30K1/X_test.npy ; Y:  ./data/C10P30K1/Y_test.npy\n",
      "X:  ./data/C10P30K2/X_test.npy ; Y:  ./data/C10P30K2/Y_test.npy\n",
      "X:  ./data/C10P30K3/X_test.npy ; Y:  ./data/C10P30K3/Y_test.npy\n",
      "X:  ./data/C10P30K4/X_test.npy ; Y:  ./data/C10P30K4/Y_test.npy\n",
      "X:  ./data/C10P30K5/X_test.npy ; Y:  ./data/C10P30K5/Y_test.npy\n",
      "classes = 10, percentage = 40\n",
      "X:  ./data/C10P40K1/X_test.npy ; Y:  ./data/C10P40K1/Y_test.npy\n",
      "X:  ./data/C10P40K2/X_test.npy ; Y:  ./data/C10P40K2/Y_test.npy\n",
      "X:  ./data/C10P40K3/X_test.npy ; Y:  ./data/C10P40K3/Y_test.npy\n",
      "X:  ./data/C10P40K4/X_test.npy ; Y:  ./data/C10P40K4/Y_test.npy\n",
      "X:  ./data/C10P40K5/X_test.npy ; Y:  ./data/C10P40K5/Y_test.npy\n",
      "classes = 10, percentage = 50\n",
      "X:  ./data/C10P50K1/X_test.npy ; Y:  ./data/C10P50K1/Y_test.npy\n",
      "X:  ./data/C10P50K2/X_test.npy ; Y:  ./data/C10P50K2/Y_test.npy\n",
      "X:  ./data/C10P50K3/X_test.npy ; Y:  ./data/C10P50K3/Y_test.npy\n",
      "X:  ./data/C10P50K4/X_test.npy ; Y:  ./data/C10P50K4/Y_test.npy\n",
      "X:  ./data/C10P50K5/X_test.npy ; Y:  ./data/C10P50K5/Y_test.npy\n"
     ]
    }
   ],
   "source": [
    "paths_dict_test = utils.get_sorted_paths_dict(data_directory  = './data/', substring_to_replace = \"test\")\n",
    "\n",
    "for (C, P), path_list in paths_dict_test.items():\n",
    "    print(f\"classes = {C}, percentage = {P}\")\n",
    "    for x_path, y_path in path_list:\n",
    "        print('X: ',x_path, '; Y: ',y_path)"
   ]
  }
 ],
 "metadata": {
  "kernelspec": {
   "display_name": "Python (uav-rf-id)",
   "language": "python",
   "name": "uav-rf-id"
  },
  "language_info": {
   "codemirror_mode": {
    "name": "ipython",
    "version": 3
   },
   "file_extension": ".py",
   "mimetype": "text/x-python",
   "name": "python",
   "nbconvert_exporter": "python",
   "pygments_lexer": "ipython3",
   "version": "3.9.18"
  },
  "widgets": {
   "application/vnd.jupyter.widget-state+json": {
    "state": {},
    "version_major": 2,
    "version_minor": 0
   }
  }
 },
 "nbformat": 4,
 "nbformat_minor": 5
}
